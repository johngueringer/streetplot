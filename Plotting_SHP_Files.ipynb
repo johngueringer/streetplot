{
 "cells": [
  {
   "cell_type": "markdown",
   "metadata": {},
   "source": [
    "## Plotting SHP File"
   ]
  },
  {
   "cell_type": "code",
   "execution_count": 4,
   "metadata": {
    "collapsed": true
   },
   "outputs": [],
   "source": [
    "import numpy as np\n",
    "import pysal as ps\n",
    "import random as rdm\n",
    "from pysal.contrib.viz import mapping as maps\n",
    "from pysal.core.util import shapefile as shpf\n",
    "import matplotlib.pyplot as plt"
   ]
  },
  {
   "cell_type": "code",
   "execution_count": 6,
   "metadata": {
    "collapsed": false
   },
   "outputs": [],
   "source": [
    "shp_link = 'CensusBlockTIGER2010.shp'     #File to open\n",
    "shp = ps.open(shp_link)                   #Open file with PySAL I/O"
   ]
  },
  {
   "cell_type": "code",
   "execution_count": 55,
   "metadata": {
    "collapsed": false
   },
   "outputs": [],
   "source": [
    "fig = plt.figure()                        #Creates canvas to plot on\n",
    "base = maps.map_poly_shp(shp)             #Creates layer from shp file\n",
    "base.set_facecolor('yellow')              #Sets color of shapes\n",
    "base.set_linewidth('0.2')                 #Sets line width\n",
    "base.set_edgecolor('0.1')                 #Sets how dark/light line is\n",
    "shp.close()                               #Close the file"
   ]
  },
  {
   "cell_type": "code",
   "execution_count": 56,
   "metadata": {
    "collapsed": true
   },
   "outputs": [],
   "source": [
    "ax = maps.setup_ax([base])                #Create axes for base layer\n",
    "fig.add_axes(ax)                          #Adds axes/layer to canvas\n",
    "plt.show()                                #Displays plot"
   ]
  },
  {
   "cell_type": "markdown",
   "metadata": {},
   "source": [
    "<img src=\"Census_Blocks.png\">"
   ]
  },
  {
   "cell_type": "code",
   "execution_count": null,
   "metadata": {
    "collapsed": true
   },
   "outputs": [],
   "source": []
  },
  {
   "cell_type": "markdown",
   "metadata": {},
   "source": [
    "## Random Sampling"
   ]
  },
  {
   "cell_type": "code",
   "execution_count": 7,
   "metadata": {
    "collapsed": true
   },
   "outputs": [],
   "source": [
    "\"\"\"\n",
    "Takes a random sample from a shapefile and return a new shp file of samples\n",
    "\n",
    "PARAMETERS:\n",
    "    String    shp_link   : path to file to be sampled from\n",
    "    Int       samp_size  : number of samples to take\n",
    "    String    shape_type : type of shape being sampled\n",
    "\n",
    "\"\"\"\n",
    "def rand_sample(shp_link, samp_size, shape_type):\n",
    "    shp_file = shpf.shp_file(shp_link)\n",
    "    samples = shpf.shp_file('samples.shp','w',shape_type) #File to write to\n",
    "    selected = []                                         #List of selections\n",
    "    file_len = len(shp_file)                              #Length of source file\n",
    "    \n",
    "    for i in range(samp_size):\n",
    "        #Get unique sample index\n",
    "        index = rdm.randint(0, file_len-1)              #Generate random index\n",
    "        if index in selected:                           #Check if index is unique\n",
    "            while index in selected:                    #Loop until unique index\n",
    "                index = rdm.randint(0, file_len)\n",
    "        selected.append(index)                          #Append index to selected\n",
    "        \n",
    "        sample = shp_file.get_shape(index)              #Gets shape at index\n",
    "        samples.add_shape(sample)                       #Writes shape to file\n",
    "    \n",
    "    samples.close()                                     #Close file\n",
    "    data = ps.open('samples.shp')                       #Re-open file with PySAL \n",
    "    \n",
    "    return data                                         #Return file"
   ]
  },
  {
   "cell_type": "code",
   "execution_count": 8,
   "metadata": {
    "collapsed": false
   },
   "outputs": [],
   "source": [
    "samples = rand_sample(shp_link, 12000, 'POLYGON')"
   ]
  },
  {
   "cell_type": "code",
   "execution_count": 9,
   "metadata": {
    "collapsed": false
   },
   "outputs": [],
   "source": [
    "fig = plt.figure()\n",
    "base = maps.map_poly_shp(samples)\n",
    "base.set_facecolor('yellow')\n",
    "base.set_linewidth('0.2')\n",
    "base.set_edgecolor('0.1')\n",
    "samples.close()"
   ]
  },
  {
   "cell_type": "code",
   "execution_count": null,
   "metadata": {
    "collapsed": true
   },
   "outputs": [],
   "source": [
    "ax = maps.setup_ax([base])\n",
    "fig.add_axes(ax)\n",
    "plt.show()"
   ]
  },
  {
   "cell_type": "markdown",
   "metadata": {},
   "source": [
    "<img src=\"rand_sample.png\">"
   ]
  },
  {
   "cell_type": "code",
   "execution_count": null,
   "metadata": {
    "collapsed": true
   },
   "outputs": [],
   "source": []
  }
 ],
 "metadata": {
  "kernelspec": {
   "display_name": "Python 2",
   "language": "python",
   "name": "python2"
  },
  "language_info": {
   "codemirror_mode": {
    "name": "ipython",
    "version": 2
   },
   "file_extension": ".py",
   "mimetype": "text/x-python",
   "name": "python",
   "nbconvert_exporter": "python",
   "pygments_lexer": "ipython2",
   "version": "2.7.9"
  }
 },
 "nbformat": 4,
 "nbformat_minor": 0
}
