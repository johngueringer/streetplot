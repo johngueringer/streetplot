{
 "cells": [
  {
   "cell_type": "code",
   "execution_count": 1,
   "metadata": {
    "collapsed": false
   },
   "outputs": [],
   "source": [
    "import numpy as np\n",
    "import pysal as ps\n",
    "import random as rdm\n",
    "from pysal.contrib.viz import mapping as maps\n",
    "from pysal.core.util import shapefile\n",
    "import matplotlib.pyplot as plt"
   ]
  },
  {
   "cell_type": "code",
   "execution_count": 2,
   "metadata": {
    "collapsed": false
   },
   "outputs": [],
   "source": [
    "def rand_sample(shp_file, samp_size, frm, to, shape_type):\n",
    "    sample = shapefile.shp_file(\"sample.shp\", 'w', shape_type)\n",
    "    \n",
    "    selected = []\n",
    "    for i in range(samp_size):\n",
    "        sampint = rdm.randint(frm, to)\n",
    "        if sampint in selected:\n",
    "            while sampint in selected:\n",
    "                sampint = rdm.randint(frm, to)\n",
    "        selected.append(sampint)\n",
    "        samp = shp.get_shape(sampint)\n",
    "        sample.add_shape(samp)\n",
    "    sample.close()\n",
    "\n",
    "    data = ps.open(\"sample.shp\")\n",
    "    return data"
   ]
  },
  {
   "cell_type": "code",
   "execution_count": 12,
   "metadata": {
    "collapsed": false
   },
   "outputs": [],
   "source": [
    "shp_link = 'Transportation.shp'\n",
    "shp = shapefile.shp_file(shp_link)\n",
    "data = rand_sample(shp, 5000, 0, 50000, 'ARC')\n",
    "shp.close()\n",
    "shp1 = ps.open(shp_link)"
   ]
  },
  {
   "cell_type": "code",
   "execution_count": 13,
   "metadata": {
    "collapsed": false
   },
   "outputs": [],
   "source": [
    "fig = plt.figure()\n",
    "base = maps.map_poly_shp(data)\n",
    "base.set_facecolor('white')\n",
    "base.set_linewidth(0.3)\n",
    "base.set_edgecolor('0.1')"
   ]
  },
  {
   "cell_type": "code",
   "execution_count": null,
   "metadata": {
    "collapsed": false
   },
   "outputs": [],
   "source": [
    "ax = maps.setup_ax([base])\n",
    "fig.add_axes(ax)\n",
    "plt.show()"
   ]
  },
  {
   "cell_type": "code",
   "execution_count": null,
   "metadata": {
    "collapsed": true
   },
   "outputs": [],
   "source": []
  }
 ],
 "metadata": {
  "kernelspec": {
   "display_name": "Python 2",
   "language": "python",
   "name": "python2"
  },
  "language_info": {
   "codemirror_mode": {
    "name": "ipython",
    "version": 2
   },
   "file_extension": ".py",
   "mimetype": "text/x-python",
   "name": "python",
   "nbconvert_exporter": "python",
   "pygments_lexer": "ipython2",
   "version": "2.7.9"
  }
 },
 "nbformat": 4,
 "nbformat_minor": 0
}
